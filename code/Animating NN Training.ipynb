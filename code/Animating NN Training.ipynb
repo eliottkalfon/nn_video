{
 "cells": [
  {
   "cell_type": "code",
   "execution_count": 3,
   "metadata": {},
   "outputs": [],
   "source": [
    "import numpy as np\n",
    "import matplotlib.pyplot as plt\n",
    "from matplotlib.colors import ListedColormap\n",
    "from sklearn.model_selection import train_test_split\n",
    "from sklearn.preprocessing import StandardScaler\n",
    "from sklearn.datasets import make_moons, make_circles, make_classification\n",
    "from sklearn.neural_network import MLPClassifier\n",
    "import warnings\n",
    "import pandas as pd\n",
    "import imageio\n",
    "from utility import get_weights, get_neurons, get_edges\n",
    "%matplotlib inline"
   ]
  },
  {
   "cell_type": "markdown",
   "metadata": {},
   "source": [
    "## Data Generation and Initial Fit"
   ]
  },
  {
   "cell_type": "code",
   "execution_count": 4,
   "metadata": {},
   "outputs": [
    {
     "data": {
      "text/plain": [
       "MLPClassifier(alpha=1, hidden_layer_sizes=(5, 10, 5), max_iter=1000)"
      ]
     },
     "execution_count": 4,
     "metadata": {},
     "output_type": "execute_result"
    }
   ],
   "source": [
    "# Generating data\n",
    "X, y = make_classification(n_features=2, n_redundant=0, n_informative=2,\n",
    "                           random_state=1, n_clusters_per_class=1, n_samples = 500)\n",
    "rng = np.random.RandomState(2)\n",
    "X += 3*rng.uniform(size=X.shape)\n",
    "# Scaling values before split for simplicity\n",
    "X = StandardScaler().fit_transform(X)\n",
    "# Splitting the dataset\n",
    "X_train, X_test, y_train, y_test = train_test_split(X, y, test_size=.4, random_state=42)\n",
    "# Initialising the classifier\n",
    "clf = MLPClassifier(hidden_layer_sizes=(5,10,5),alpha=1, max_iter=1000)\n",
    "clf.partial_fit(X_train, y_train, classes=np.unique(y_train))"
   ]
  },
  {
   "cell_type": "markdown",
   "metadata": {},
   "source": [
    "## Plotting Elements"
   ]
  },
  {
   "cell_type": "markdown",
   "metadata": {},
   "source": [
    "### Grid"
   ]
  },
  {
   "cell_type": "code",
   "execution_count": 8,
   "metadata": {},
   "outputs": [],
   "source": [
    "# Meshgrid height\n",
    "h = 0.2\n",
    "# Creating a grid\n",
    "x_min, x_max = X[:, 0].min() - .5, X[:, 0].max() + .5\n",
    "y_min, y_max = X[:, 1].min() - .5, X[:, 1].max() + .5\n",
    "xx, yy = np.meshgrid(np.arange(x_min, x_max, h),\n",
    "                     np.arange(y_min, y_max, h))"
   ]
  },
  {
   "cell_type": "markdown",
   "metadata": {},
   "source": [
    "### Neural Network graph (edges and vertices)"
   ]
  },
  {
   "cell_type": "code",
   "execution_count": 4,
   "metadata": {},
   "outputs": [],
   "source": [
    "# Generating NN structuer using the model's weight matrix\n",
    "neurons_df, coordinate_dict = get_neurons(clf.coefs_)\n",
    "edges = get_edges(clf.coefs_)"
   ]
  },
  {
   "cell_type": "markdown",
   "metadata": {},
   "source": [
    "## Define the plotting functions"
   ]
  },
  {
   "cell_type": "code",
   "execution_count": 5,
   "metadata": {},
   "outputs": [],
   "source": [
    "def plot_nn(axis, neurons_df, coordinate_dict, edges):\n",
    "    '''Function plotting the neural network's inner structure\n",
    "    Args:\n",
    "        axis (Axes object): Axis used to plot the nn's inner structure\n",
    "        neurons_df (DataFrame object): DataFrame containing the (x,y) position of each neuron\n",
    "        coordinate_dict (dict): Dictionary composed of (layer,neuron):{'x':pos, 'y':pos} pairs, used for fast lookups\n",
    "        edges (DataFrame object): Dataframe containing the weight of each connection\n",
    "    '''\n",
    "    cm = plt.cm.RdBu\n",
    "    c_dict = {1: '#4473a4', -1: '#d9776d', 0:'grey'}\n",
    "    # Plotting weights\n",
    "    for idx, row in edges.iterrows():\n",
    "        parent = (row['parent_layer'],row['parent_neuron'])\n",
    "        child = (row['child_layer'],row['child_neuron'])\n",
    "        # Conditional formatting of high weight changes\n",
    "        if np.abs(row['delta'])>0.002:\n",
    "            axis.plot(\n",
    "            [coordinate_dict[parent]['x'], coordinate_dict[child]['x']],\n",
    "            [coordinate_dict[parent]['y'], coordinate_dict[child]['y']],\n",
    "            c='red', alpha = 0.4, lw = (np.abs(row['weight'])+1)**3.5, ls = '-.', label = 'Learning'\n",
    "        )\n",
    "        # Regular formatting\n",
    "        else:\n",
    "            axis.plot(\n",
    "            [coordinate_dict[parent]['x'], coordinate_dict[child]['x']],\n",
    "            [coordinate_dict[parent]['y'], coordinate_dict[child]['y']],\n",
    "            c='grey', alpha = 0.3, lw = (np.abs(row['weight'])+1)**3.5\n",
    "        )\n",
    "    # Plotting the neurons as a scatter plot\n",
    "    axis.scatter(neurons_df['x'], neurons_df['y'], s=400, alpha = 1, zorder=3)"
   ]
  },
  {
   "cell_type": "code",
   "execution_count": 6,
   "metadata": {},
   "outputs": [],
   "source": [
    "def plot_decision(axis, clf, X_train, y_train, X_test, y_test, xx, yy):\n",
    "    '''Function plotting the data points and predicted probabilities in the feature space\n",
    "    Args:\n",
    "        axis (Axes object): Axis used to plot the nn's inner structure\n",
    "        X_train (array): Array of training features\n",
    "        y_train (array): Array of training labels\n",
    "        X_test (array): Array of test features\n",
    "        y_test (array): Array of test labels\n",
    "        xx (array): Grid x coordinates\n",
    "        yy (array): Grid y coordinates        \n",
    "    '''\n",
    "    cm = plt.cm.RdBu\n",
    "    cm_bright = ListedColormap(['#FF0000', '#0000FF'])\n",
    "    # Generating predictions\n",
    "    Z = clf.predict_proba(np.c_[xx.ravel(), yy.ravel()])[:, 1]\n",
    "    Z = Z.reshape(xx.shape)\n",
    "    # Plot the contour plot\n",
    "    axis.contourf(xx, yy, Z, cmap=cm, alpha=.8)\n",
    "    # Plot the training points\n",
    "    axis.scatter(X_train[:, 0], X_train[:, 1], c=y_train, cmap=cm_bright,\n",
    "               edgecolors='k')\n",
    "    # Plot the testing points\n",
    "    axis.scatter(X_test[:, 0], X_test[:, 1], c=y_test, cmap=cm_bright,\n",
    "               edgecolors='k', alpha=0.6)\n",
    "    # Removing axis labels and ticks\n",
    "    axis.set_xlim(xx.min(), xx.max())\n",
    "    axis.set_ylim(yy.min(), yy.max())\n",
    "    axis.set_xticks(())\n",
    "    axis.set_yticks(())"
   ]
  },
  {
   "cell_type": "markdown",
   "metadata": {},
   "source": [
    "## Iteration"
   ]
  },
  {
   "cell_type": "code",
   "execution_count": 7,
   "metadata": {},
   "outputs": [],
   "source": [
    "# List of images\n",
    "files = []\n",
    "# Initial weights\n",
    "previous_weight = get_weights(clf.coefs_)\n",
    "for i in range(300):\n",
    "    # Keeps track of previous weights for comparison\n",
    "    if i != 0:\n",
    "        previous_weight = new_weight\n",
    "    # New training iteration\n",
    "    clf.partial_fit(X_train,y_train)\n",
    "    # Retrieving new weights\n",
    "    new_weight =  get_weights(clf.coefs_)\n",
    "    # Getting the weight delta\n",
    "    edges['delta'] = new_weight - previous_weight\n",
    "    # Creating a figure\n",
    "    fig = plt.figure(figsize=(30,10))\n",
    "    # Controlling plotting context\n",
    "    plot_params = {'axes.titlesize' : 16, 'axes.labelsize' : 12,\n",
    "                       'axes.edgecolor': 'w', 'xtick.color': 'w', 'ytick.color':'w',\n",
    "                       'ytick.major.size': 0, 'ytick.minor.size': 0 }\n",
    "    with plt.rc_context(plot_params):\n",
    "        ax = plt.subplot(1,2,1)\n",
    "    plot_nn(ax, neurons_df, coordinate_dict, edges)\n",
    "    ax2 = plt.subplot(1,2,2)\n",
    "    plot_decision(ax2, clf, X_train, y_train, X_test, y_test, xx, yy)\n",
    "    fig.suptitle(f'Training Epoch: {i+1}', fontsize = 32, y = 0.95)\n",
    "    filename = f'video2/{i}_chart.png'\n",
    "    # Saving the figure and appending filename to list\n",
    "    fig.savefig(filename)\n",
    "    files.append(filename)\n",
    "    # Closing the figure to avoid memory problems\n",
    "    plt.close()"
   ]
  },
  {
   "cell_type": "markdown",
   "metadata": {},
   "source": [
    "## Movie"
   ]
  },
  {
   "cell_type": "code",
   "execution_count": 8,
   "metadata": {},
   "outputs": [],
   "source": [
    "with imageio.get_writer('video2/movie.mp4', mode='I') as writer:\n",
    "    # Iterate over file names\n",
    "    for filename in files:\n",
    "        # Read image and append to video\n",
    "        image = imageio.imread(filename)\n",
    "        writer.append_data(image)"
   ]
  }
 ],
 "metadata": {
  "kernelspec": {
   "display_name": "Python 3",
   "language": "python",
   "name": "python3"
  },
  "language_info": {
   "codemirror_mode": {
    "name": "ipython",
    "version": 3
   },
   "file_extension": ".py",
   "mimetype": "text/x-python",
   "name": "python",
   "nbconvert_exporter": "python",
   "pygments_lexer": "ipython3",
   "version": "3.7.6"
  }
 },
 "nbformat": 4,
 "nbformat_minor": 4
}
